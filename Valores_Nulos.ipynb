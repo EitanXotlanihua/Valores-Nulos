{
  "nbformat": 4,
  "nbformat_minor": 0,
  "metadata": {
    "colab": {
      "provenance": [],
      "authorship_tag": "ABX9TyP+7ILiDEIOVvZxiKaeOOPl",
      "include_colab_link": true
    },
    "kernelspec": {
      "name": "python3",
      "display_name": "Python 3"
    },
    "language_info": {
      "name": "python"
    }
  },
  "cells": [
    {
      "cell_type": "markdown",
      "metadata": {
        "id": "view-in-github",
        "colab_type": "text"
      },
      "source": [
        "<a href=\"https://colab.research.google.com/github/EitanXotlanihua/Valores-Nulos/blob/main/Valores_Nulos.ipynb\" target=\"_parent\"><img src=\"https://colab.research.google.com/assets/colab-badge.svg\" alt=\"Open In Colab\"/></a>"
      ]
    },
    {
      "cell_type": "code",
      "execution_count": 10,
      "metadata": {
        "id": "140pmOoematz"
      },
      "outputs": [],
      "source": [
        "import pandas as pd\n",
        "import numpy as np\n",
        "import matplotlib.pyplot as plt"
      ]
    },
    {
      "cell_type": "code",
      "source": [
        "from google.colab import files\n",
        "files.upload()"
      ],
      "metadata": {
        "id": "uWSmeJvFnmU9"
      },
      "execution_count": null,
      "outputs": []
    },
    {
      "cell_type": "code",
      "source": [
        "data = pd.read_csv(\"Ventas_totales.csv\")\n",
        "data.head(5)"
      ],
      "metadata": {
        "id": "5qYgXWDApFGT"
      },
      "execution_count": null,
      "outputs": []
    },
    {
      "cell_type": "code",
      "source": [
        "data1 = pd.read_csv(\"Ventas_totales.csv\", skiprows=0)\n",
        "data1"
      ],
      "metadata": {
        "id": "lA3LhZBNpvyw"
      },
      "execution_count": null,
      "outputs": []
    },
    {
      "cell_type": "code",
      "source": [
        "#Sirve para eliminar\n",
        "data2 = data1.drop(['indice_tiempo','ventas_precios_corrientes'], axis=1)\n",
        "data2"
      ],
      "metadata": {
        "id": "T_SKQjbpqHtY"
      },
      "execution_count": null,
      "outputs": []
    },
    {
      "cell_type": "code",
      "source": [
        "#Identificaer valores nulos\n",
        "valores_nulos = data2.isnull().sum()\n",
        "valores_nulos"
      ],
      "metadata": {
        "id": "6s2-DsbpryO6"
      },
      "execution_count": null,
      "outputs": []
    },
    {
      "cell_type": "markdown",
      "source": [
        "**METODO DE SUSTITUCION DE VALORES NULOS**"
      ],
      "metadata": {
        "id": "V7R1FrVHsJOw"
      }
    },
    {
      "cell_type": "code",
      "source": [
        "data3 = data2.copy()"
      ],
      "metadata": {
        "id": "eE1Xfzc7sE6V"
      },
      "execution_count": 62,
      "outputs": []
    },
    {
      "cell_type": "code",
      "source": [
        "#Sistituit valores nulos con promedio o medida (Variables cuantitativas)\n",
        "data3[\"salon_ventas\"]=data3[\"salon_ventas\"].fillna(round(data2[\"salon_ventas\"].mean(),1))"
      ],
      "metadata": {
        "id": "GdUo6bR4sir2"
      },
      "execution_count": 63,
      "outputs": []
    },
    {
      "cell_type": "code",
      "source": [
        "#Corroborr valores nulos\n",
        "valores_nulos = data3.isnull().sum()\n",
        "valores_nulos"
      ],
      "metadata": {
        "id": "5aVam-e_tBqw"
      },
      "execution_count": null,
      "outputs": []
    },
    {
      "cell_type": "code",
      "source": [
        "#Sistituit valores nulos con promedio o medida (Variables cuantitativas)\n",
        "data3[\"tarjetas_debito\"]=data3[\"tarjetas_debito\"].fillna(round(data2[\"tarjetas_debito\"].median(),1))\n",
        "data3"
      ],
      "metadata": {
        "id": "BuaGlReAt5th"
      },
      "execution_count": null,
      "outputs": []
    },
    {
      "cell_type": "code",
      "source": [
        "data3[\"lacteos\"]=data3[\"lacteos\"].fillna(round(data2[\"lacteos\"].median(),1))\n",
        "data3"
      ],
      "metadata": {
        "id": "Z2ziUY-75WxC"
      },
      "execution_count": null,
      "outputs": []
    },
    {
      "cell_type": "code",
      "source": [
        "#Corroborr valores nulos\n",
        "valores_nulos = data3.isnull().sum()\n",
        "valores_nulos"
      ],
      "metadata": {
        "id": "UeDqPGe-uHdB"
      },
      "execution_count": null,
      "outputs": []
    },
    {
      "cell_type": "code",
      "source": [
        "#Sustituir valores nulos por un valor numérico en  concreto\n",
        "data3[\"tarjetas_credito\"]= data3[\"tarjetas_credito\"].fillna(10)\n",
        "data3"
      ],
      "metadata": {
        "id": "6tZv4ELTuwJW"
      },
      "execution_count": null,
      "outputs": []
    },
    {
      "cell_type": "code",
      "source": [
        "data3[\"carnes\"]= data3[\"carnes\"].fillna(10)\n",
        "data3"
      ],
      "metadata": {
        "id": "0C72OXra5g9D"
      },
      "execution_count": null,
      "outputs": []
    },
    {
      "cell_type": "code",
      "source": [
        "#Corroborr valores nulos\n",
        "valores_nulos = data3.isnull().sum()\n",
        "valores_nulos"
      ],
      "metadata": {
        "id": "LGKU5M_EvjRg"
      },
      "execution_count": null,
      "outputs": []
    },
    {
      "cell_type": "code",
      "source": [
        "data3[\"otros_medios\"]= data3[\"otros_medios\"].fillna(\"01/04/2022\")\n",
        "data3"
      ],
      "metadata": {
        "id": "N7M48njkvpOa"
      },
      "execution_count": null,
      "outputs": []
    },
    {
      "cell_type": "code",
      "source": [
        "#Corroborr valores nulos\n",
        "valores_nulos = data3.isnull().sum()\n",
        "valores_nulos"
      ],
      "metadata": {
        "id": "rXQ74mcLwIrw"
      },
      "execution_count": null,
      "outputs": []
    },
    {
      "cell_type": "code",
      "source": [
        "data3[\"subtotal_ventas_alimentos_bebidas\"] = data3[\"subtotal_ventas_alimentos_bebidas\"].fillna(method=\"ffill\")"
      ],
      "metadata": {
        "id": "ZDp-2yKBwL--"
      },
      "execution_count": 82,
      "outputs": []
    },
    {
      "cell_type": "code",
      "source": [
        "data3[\"alimentos_preparados_rotiseria\"] = data3[\"alimentos_preparados_rotiseria\"].fillna(method=\"ffill\")"
      ],
      "metadata": {
        "id": "CBJCAk156HDw"
      },
      "execution_count": 118,
      "outputs": []
    },
    {
      "cell_type": "code",
      "source": [
        "#Corroborr valores nulos\n",
        "valores_nulos = data3.isnull().sum()\n",
        "valores_nulos"
      ],
      "metadata": {
        "id": "6JYqg2o_wjxi"
      },
      "execution_count": null,
      "outputs": []
    },
    {
      "cell_type": "code",
      "source": [
        "data3[\"bebidas\"] = data3[\"bebidas\"].fillna(method=\"bfill\")"
      ],
      "metadata": {
        "id": "c1U21INWwmPW"
      },
      "execution_count": 84,
      "outputs": []
    },
    {
      "cell_type": "code",
      "source": [
        "data3[\"verduleria_fruteria\"] = data3[\"verduleria_fruteria\"].fillna(method=\"bfill\")"
      ],
      "metadata": {
        "id": "6g8WDuJu6NE4"
      },
      "execution_count": 116,
      "outputs": []
    },
    {
      "cell_type": "code",
      "source": [
        "#Corroborr valores nulos\n",
        "valores_nulos = data3.isnull().sum()\n",
        "valores_nulos"
      ],
      "metadata": {
        "id": "jrh38p7QwmJi"
      },
      "execution_count": null,
      "outputs": []
    },
    {
      "cell_type": "code",
      "source": [
        "data3[\"almacen\"] = data3[\"almacen\"].fillna(method=\"bfill\")"
      ],
      "metadata": {
        "id": "5f6vdGrBw_XF"
      },
      "execution_count": 87,
      "outputs": []
    },
    {
      "cell_type": "code",
      "source": [
        "data3[\"indumentaria_calzado_textiles_hogar\"] = data3[\"indumentaria_calzado_textiles_hogar\"].fillna(method=\"bfill\")"
      ],
      "metadata": {
        "id": "8vA3Ov_q6hUZ"
      },
      "execution_count": 121,
      "outputs": []
    },
    {
      "cell_type": "code",
      "source": [
        "#Corroborr valores nulos\n",
        "valores_nulos = data3.isnull().sum()\n",
        "valores_nulos"
      ],
      "metadata": {
        "id": "k4iUq7yrxFzy"
      },
      "execution_count": null,
      "outputs": []
    },
    {
      "cell_type": "code",
      "source": [
        "data3[\"panaderia\"] = data3[\"panaderia\"].fillna(method=\"ffill\")"
      ],
      "metadata": {
        "id": "yju6sRa2xLE6"
      },
      "execution_count": 89,
      "outputs": []
    },
    {
      "cell_type": "code",
      "source": [
        "data3[\"electronicos_articulos_hogar\"] = data3[\"electronicos_articulos_hogar\"].fillna(method=\"ffill\")"
      ],
      "metadata": {
        "id": "eOf-bQvm6pIL"
      },
      "execution_count": 123,
      "outputs": []
    },
    {
      "cell_type": "code",
      "source": [
        "data3[\"otros\"] = data3[\"otros\"].fillna(method=\"ffill\")"
      ],
      "metadata": {
        "id": "aVKtPz2o6uxx"
      },
      "execution_count": 125,
      "outputs": []
    },
    {
      "cell_type": "code",
      "source": [
        "valores_nulos = data3.isnull().sum()\n",
        "valores_nulos"
      ],
      "metadata": {
        "id": "d8LzEkJN4aWU"
      },
      "execution_count": null,
      "outputs": []
    },
    {
      "cell_type": "code",
      "source": [
        "#Corroborr valores nulos\n",
        "valores_nulos = data3.isnull().sum().sum()\n",
        "valores_nulos"
      ],
      "metadata": {
        "id": "fmbQKp0nxPvx",
        "colab": {
          "base_uri": "https://localhost:8080/"
        },
        "outputId": "1c97a09d-5db5-45f8-98cc-776a09140fbf"
      },
      "execution_count": 127,
      "outputs": [
        {
          "output_type": "execute_result",
          "data": {
            "text/plain": [
              "0"
            ]
          },
          "metadata": {},
          "execution_count": 127
        }
      ]
    },
    {
      "cell_type": "markdown",
      "source": [
        "**METODO DE ELIMINACION**"
      ],
      "metadata": {
        "id": "ZsH_J_c7x-H7"
      }
    },
    {
      "cell_type": "code",
      "source": [
        "#Identificar valores nulos por columna\n",
        "valores_nulos = data2.isnull().sum()\n",
        "valores_nulos"
      ],
      "metadata": {
        "id": "wuzi9A8eyA07"
      },
      "execution_count": null,
      "outputs": []
    },
    {
      "cell_type": "code",
      "source": [
        "#Realizamos una copia del dataframe\n",
        "data4=data2.copy()"
      ],
      "metadata": {
        "id": "WmEW4Bh-w4KA"
      },
      "execution_count": 129,
      "outputs": []
    },
    {
      "cell_type": "code",
      "source": [
        "#Eliminamos filas con nulos\n",
        "data4= data2.dropna()\n",
        "data4\n",
        ""
      ],
      "metadata": {
        "id": "1uNRShvQw7hh"
      },
      "execution_count": null,
      "outputs": []
    },
    {
      "cell_type": "code",
      "source": [
        "#Identificar valores nulos por columna\n",
        "valores_nulos=data4.isnull().sum()\n",
        "valores_nulos"
      ],
      "metadata": {
        "id": "vBRs4WB8w_QP"
      },
      "execution_count": null,
      "outputs": []
    },
    {
      "cell_type": "markdown",
      "source": [
        "Comparamos DataFrame3(Sustitución) y Dataframe4(Eliminación)"
      ],
      "metadata": {
        "id": "0znHw-5gxBpF"
      }
    },
    {
      "cell_type": "code",
      "source": [
        "data3.info()"
      ],
      "metadata": {
        "id": "AnrQIvbYxCYD"
      },
      "execution_count": null,
      "outputs": []
    },
    {
      "cell_type": "code",
      "source": [
        "data4.info()"
      ],
      "metadata": {
        "id": "3GGFqLpjxFpS"
      },
      "execution_count": null,
      "outputs": []
    },
    {
      "cell_type": "markdown",
      "source": [
        "Convertir DataSet sin valores nulos a CSV"
      ],
      "metadata": {
        "id": "EQv896UjxJ0Q"
      }
    },
    {
      "cell_type": "code",
      "source": [
        "#Convertir DataFrame a CSV\n",
        "data3.to_csv(\"Ventas_totales_nulos.csv\")"
      ],
      "metadata": {
        "id": "kAqByx8xxKkJ"
      },
      "execution_count": 134,
      "outputs": []
    },
    {
      "cell_type": "code",
      "source": [
        "#descargar archivo filtrado en csv\n",
        "from google.colab import files\n",
        "\n",
        "\n",
        "files.download(\"Ventas_totales_nulos.csv\")"
      ],
      "metadata": {
        "colab": {
          "base_uri": "https://localhost:8080/",
          "height": 17
        },
        "id": "GnuLmBWBxMx9",
        "outputId": "be649b10-e5ae-4158-970f-ed73d3e7d5c0"
      },
      "execution_count": 136,
      "outputs": [
        {
          "output_type": "display_data",
          "data": {
            "text/plain": [
              "<IPython.core.display.Javascript object>"
            ],
            "application/javascript": [
              "\n",
              "    async function download(id, filename, size) {\n",
              "      if (!google.colab.kernel.accessAllowed) {\n",
              "        return;\n",
              "      }\n",
              "      const div = document.createElement('div');\n",
              "      const label = document.createElement('label');\n",
              "      label.textContent = `Downloading \"${filename}\": `;\n",
              "      div.appendChild(label);\n",
              "      const progress = document.createElement('progress');\n",
              "      progress.max = size;\n",
              "      div.appendChild(progress);\n",
              "      document.body.appendChild(div);\n",
              "\n",
              "      const buffers = [];\n",
              "      let downloaded = 0;\n",
              "\n",
              "      const channel = await google.colab.kernel.comms.open(id);\n",
              "      // Send a message to notify the kernel that we're ready.\n",
              "      channel.send({})\n",
              "\n",
              "      for await (const message of channel.messages) {\n",
              "        // Send a message to notify the kernel that we're ready.\n",
              "        channel.send({})\n",
              "        if (message.buffers) {\n",
              "          for (const buffer of message.buffers) {\n",
              "            buffers.push(buffer);\n",
              "            downloaded += buffer.byteLength;\n",
              "            progress.value = downloaded;\n",
              "          }\n",
              "        }\n",
              "      }\n",
              "      const blob = new Blob(buffers, {type: 'application/binary'});\n",
              "      const a = document.createElement('a');\n",
              "      a.href = window.URL.createObjectURL(blob);\n",
              "      a.download = filename;\n",
              "      div.appendChild(a);\n",
              "      a.click();\n",
              "      div.remove();\n",
              "    }\n",
              "  "
            ]
          },
          "metadata": {}
        },
        {
          "output_type": "display_data",
          "data": {
            "text/plain": [
              "<IPython.core.display.Javascript object>"
            ],
            "application/javascript": [
              "download(\"download_38a41506-9cbd-4199-b3fa-9fad367169ca\", \"Ventas_totales_nulos.csv\", 19657)"
            ]
          },
          "metadata": {}
        }
      ]
    }
  ]
}